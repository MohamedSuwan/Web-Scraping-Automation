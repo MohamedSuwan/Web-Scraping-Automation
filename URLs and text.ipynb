{
 "cells": [
  {
   "cell_type": "code",
   "execution_count": 1,
   "metadata": {},
   "outputs": [],
   "source": [
    "from selenium import webdriver"
   ]
  },
  {
   "cell_type": "code",
   "execution_count": 3,
   "metadata": {},
   "outputs": [],
   "source": [
    "browser=webdriver.Firefox()"
   ]
  },
  {
   "cell_type": "code",
   "execution_count": 10,
   "metadata": {},
   "outputs": [],
   "source": [
    "browser.maximize_window()"
   ]
  },
  {
   "cell_type": "code",
   "execution_count": 11,
   "metadata": {},
   "outputs": [],
   "source": [
    "browser.get(\"https://extensions.gnome.org/#\")"
   ]
  },
  {
   "cell_type": "code",
   "execution_count": 13,
   "metadata": {},
   "outputs": [],
   "source": [
    "c=browser.find_elements_by_tag_name(\"a\")"
   ]
  },
  {
   "cell_type": "code",
   "execution_count": 17,
   "metadata": {},
   "outputs": [],
   "source": [
    "c=browser.find_elements_by_xpath(\"//a[@href]\")"
   ]
  },
  {
   "cell_type": "markdown",
   "metadata": {},
   "source": [
    "all the links in a website"
   ]
  },
  {
   "cell_type": "code",
   "execution_count": 20,
   "metadata": {},
   "outputs": [
    {
     "name": "stdout",
     "output_type": "stream",
     "text": [
      "https://extensions.gnome.org/\n",
      "https://extensions.gnome.org/#userDropdownMenu\n",
      "https://extensions.gnome.org/accounts/login/\n",
      "https://extensions.gnome.org/accounts/password/reset/\n",
      "https://extensions.gnome.org/accounts/register/\n",
      "https://extensions.gnome.org/\n",
      "https://extensions.gnome.org/upload/\n",
      "https://extensions.gnome.org/local/\n",
      "https://extensions.gnome.org/about/\n",
      "https://extensions.gnome.org/#\n",
      "https://wiki.gnome.org/Projects/GnomeShellIntegrationForChrome/Installation\n",
      "https://extensions.gnome.org/#page=2\n",
      "https://extensions.gnome.org/#page=3\n",
      "https://extensions.gnome.org/#page=4\n",
      "https://extensions.gnome.org/#page=177\n",
      "https://extensions.gnome.org/#page=2\n",
      "https://extensions.gnome.org/extension/19/user-themes/\n",
      "https://extensions.gnome.org/accounts/profile/fmuellner\n",
      "https://extensions.gnome.org/extension/6/applications-menu/\n",
      "https://extensions.gnome.org/accounts/profile/fmuellner\n",
      "https://extensions.gnome.org/extension/3088/extension-list/\n",
      "https://extensions.gnome.org/accounts/profile/grroot\n",
      "https://extensions.gnome.org/extension/615/appindicator-support/\n",
      "https://extensions.gnome.org/accounts/profile/3v1n0\n",
      "https://extensions.gnome.org/extension/1319/gsconnect/\n",
      "https://extensions.gnome.org/accounts/profile/dlandau\n",
      "https://extensions.gnome.org/extension/307/dash-to-dock/\n",
      "https://extensions.gnome.org/accounts/profile/michele_g\n",
      "https://extensions.gnome.org/extension/517/caffeine/\n",
      "https://extensions.gnome.org/accounts/profile/eon\n",
      "https://extensions.gnome.org/extension/906/sound-output-device-chooser/\n",
      "https://extensions.gnome.org/accounts/profile/kgshank\n",
      "https://extensions.gnome.org/extension/7/removable-drive-menu/\n",
      "https://extensions.gnome.org/accounts/profile/fmuellner\n",
      "https://extensions.gnome.org/extension/779/clipboard-indicator/\n",
      "https://extensions.gnome.org/accounts/profile/Tudmotu\n",
      "https://extensions.gnome.org/#page=2\n",
      "https://extensions.gnome.org/#page=3\n",
      "https://extensions.gnome.org/#page=4\n",
      "https://extensions.gnome.org/#page=177\n",
      "https://extensions.gnome.org/#page=2\n",
      "https://www.gnome.org/\n",
      "https://www.gnome.org/about/\n",
      "https://www.gnome.org/get-involved/\n",
      "https://www.gnome.org/support-gnome/\n",
      "https://www.gnome.org/merchandise/\n",
      "https://www.gnome.org/contact/\n",
      "https://www.gnome.org/privacy/\n",
      "https://www.gnome.org/foundation/\n",
      "https://extensions.gnome.org/#\n",
      "https://developer.gnome.org/\n",
      "https://help.gnome.org/\n",
      "https://wiki.gnome.org/\n",
      "https://mail.gnome.org/mailman/listinfo\n",
      "https://wiki.gnome.org/Community/GettingInTouch/IRC\n",
      "https://gitlab.gnome.org/\n",
      "https://gitlab.gnome.org/\n",
      "https://www.gnome.org/news\n",
      "https://www.gnome.org/press/\n",
      "https://www.gnome.org/start/stable\n",
      "https://planet.gnome.org/\n",
      "https://creativecommons.org/licenses/by/3.0/\n",
      "https://www.redhat.com/\n",
      "https://www.djangoproject.com/\n",
      "https://gitlab.gnome.org/Infrastructure/extensions-web\n"
     ]
    }
   ],
   "source": [
    "for i in c:\n",
    "    print(i.get_attribute(\"href\"))"
   ]
  },
  {
   "cell_type": "markdown",
   "metadata": {},
   "source": [
    "all the visible text in the website"
   ]
  },
  {
   "cell_type": "code",
   "execution_count": 26,
   "metadata": {},
   "outputs": [
    {
     "data": {
      "text/plain": [
       "'Toggle navigation\\nTo control GNOME Shell extensions using this site you must install GNOME Shell integration that consists of two parts: browser extension and native host messaging application.\\nClick here to install browser extension. See wiki page for native host connector installation instructions.\\n1234...177»\\nSort byPopularity⌄\\nUser Themes by fmuellner\\nLoad shell themes from user directory.\\nApplications Menu by fmuellner\\nAdd a category-based menu for applications.\\nExtension List by grroot\\nSimple GNOME Shell extension manager in the top panel\\nAppIndicator and KStatusNotifierItem Support by 3v1n0\\nAdds AppIndicator, KStatusNotifierItem and legacy Tray icons support to the Shell\\nGSConnect by dlandau\\nGSConnect is a complete implementation of KDE Connect especially for GNOME Shell with Nautilus, Chrome and Firefox integration. It does not rely on the KDE Connect desktop application and will not work with it installed.\\nDash to Dock by michele_g\\nA dock for the Gnome Shell. This extension moves the dash out of the overview transforming it in a dock for an easier launching of applications and a faster switching between windows and desktops. Side and bottom placement options are available.\\nCaffeine by eon\\nDisable the screensaver and auto suspend\\nSound Input & Output Device Chooser by kgshank\\nShows a list of sound output and input devices (similar to gnome sound settings) in the status menu below the volume slider. Various active ports like HDMI , Speakers etc. of the same device are also displayed for selection. V20+ needs python as dependency. If you want to continue with the old method without Python, use options to switch off New Port identification. But it works with only English\\nRemovable Drive Menu by fmuellner\\nA status menu for accessing and unmounting removable devices.\\nClipboard Indicator by Tudmotu\\nClipboard Manager extension for Gnome-Shell - Adds a clipboard indicator to the top panel, and caches clipboard history.\\n1234...177»\\nThe GNOME Project\\nAbout Us\\nGet Involved\\nSupport GNOME\\nMerchandise\\nContact Us\\nPrivacy\\nThe GNOME Foundation\\nResources\\nDeveloper Center\\nDocumentation\\nWiki\\nMailing Lists\\nIRC Channels\\nBug Tracker\\nDevelopment Code\\nNews\\nPress Releases\\nLatest Release\\nPlanet GNOME\\nCopyright © 2005‒2022 The GNOME Project\\nFree to share and remix: Creative Commons CC-BY. Optimised for standards. Hosted by Red Hat. Powered by Django and SweetTooth'"
      ]
     },
     "execution_count": 26,
     "metadata": {},
     "output_type": "execute_result"
    }
   ],
   "source": [
    "browser.find_element_by_xpath(\"/html/body\").text"
   ]
  },
  {
   "cell_type": "code",
   "execution_count": 37,
   "metadata": {},
   "outputs": [],
   "source": [
    "import re"
   ]
  },
  {
   "cell_type": "markdown",
   "metadata": {},
   "source": [
    "the same text but only letters and numbers"
   ]
  },
  {
   "cell_type": "code",
   "execution_count": 58,
   "metadata": {},
   "outputs": [
    {
     "data": {
      "text/plain": [
       "'Toggle navigation To control GNOME Shell extensions using this site you must install GNOME Shell integration that consists of two parts browser extension and native host messaging application Click here to install browser extension See wiki page for native host connector installation instructions 1234 177 Sort byPopularity User Themes by fmuellner Load shell themes from user directory Applications Menu by fmuellner Add a category based menu for applications Extension List by grroot Simple GNOME Shell extension manager in the top panel AppIndicator and KStatusNotifierItem Support by 3v1n0 Adds AppIndicator KStatusNotifierItem and legacy Tray icons support to the Shell GSConnect by dlandau GSConnect is a complete implementation of KDE Connect especially for GNOME Shell with Nautilus Chrome and Firefox integration It does not rely on the KDE Connect desktop application and will not work with it installed Dash to Dock by michele_g A dock for the Gnome Shell This extension moves the dash out of the overview transforming it in a dock for an easier launching of applications and a faster switching between windows and desktops Side and bottom placement options are available Caffeine by eon Disable the screensaver and auto suspend Sound Input Output Device Chooser by kgshank Shows a list of sound output and input devices similar to gnome sound settings in the status menu below the volume slider Various active ports like HDMI Speakers etc of the same device are also displayed for selection V20+ needs python as dependency If you want to continue with the old method without Python use options to switch off New Port identification But it works with only English Removable Drive Menu by fmuellner A status menu for accessing and unmounting removable devices Clipboard Indicator by Tudmotu Clipboard Manager extension for Gnome Shell Adds a clipboard indicator to the top panel and caches clipboard history 1234 177 The GNOME Project About Us Get Involved Support GNOME Merchandise Contact Us Privacy The GNOME Foundation Resources Developer Center Documentation Wiki Mailing Lists IRC Channels Bug Tracker Development Code News Press Releases Latest Release Planet GNOME Copyright 2005 2022 The GNOME Project Free to share and remix Creative Commons CC BY Optimised for standards Hosted by Red Hat Powered by Django and SweetTooth'"
      ]
     },
     "execution_count": 58,
     "metadata": {},
     "output_type": "execute_result"
    }
   ],
   "source": [
    "text=browser.find_element_by_xpath(\"/html/body\").text\n",
    "# \" \".join(text.split())\n",
    "qq=re.sub(r\"[^ \\w+ ]\",\" \",text)\n",
    "re.sub(r\" +\",\" \",qq)\n",
    "\n",
    "# type(text)\n",
    "# len(text)"
   ]
  }
 ],
 "metadata": {
  "interpreter": {
   "hash": "e7370f93d1d0cde622a1f8e1c04877d8463912d04d973331ad4851f04de6915a"
  },
  "kernelspec": {
   "display_name": "Python 3.8.10 64-bit",
   "language": "python",
   "name": "python3"
  },
  "language_info": {
   "codemirror_mode": {
    "name": "ipython",
    "version": 3
   },
   "file_extension": ".py",
   "mimetype": "text/x-python",
   "name": "python",
   "nbconvert_exporter": "python",
   "pygments_lexer": "ipython3",
   "version": "3.8.10"
  },
  "orig_nbformat": 4
 },
 "nbformat": 4,
 "nbformat_minor": 2
}
